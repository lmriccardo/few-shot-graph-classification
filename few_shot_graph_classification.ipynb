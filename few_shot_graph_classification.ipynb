{
  "nbformat": 4,
  "nbformat_minor": 0,
  "metadata": {
    "colab": {
      "name": "few-shot-graph-classification.ipynb",
      "provenance": [],
      "collapsed_sections": []
    },
    "kernelspec": {
      "name": "python3",
      "display_name": "Python 3"
    },
    "language_info": {
      "name": "python"
    }
  },
  "cells": [
    {
      "cell_type": "markdown",
      "source": [
        "# Graph Data Augmentation for Few-Shot Graph Classification"
      ],
      "metadata": {
        "id": "6YcW8xJl1woa"
      }
    },
    {
      "cell_type": "code",
      "source": [
        "import torch\n",
        "TORCH = torch.__version__.split('+')[0]\n",
        "CUDA = 'cu' + torch.version.cuda.replace('.','')\n",
        "\n",
        "!pip install pytorch-lightning\n",
        "!pip install pyyaml==5.4.1\n",
        "!pip install torch-scatter     -f https://pytorch-geometric.com/whl/torch-{TORCH}+{CUDA}.html\n",
        "!pip install torch-sparse      -f https://pytorch-geometric.com/whl/torch-{TORCH}+{CUDA}.html\n",
        "!pip install torch-cluster     -f https://pytorch-geometric.com/whl/torch-{TORCH}+{CUDA}.html\n",
        "!pip install torch-spline-conv -f https://pytorch-geometric.com/whl/torch-{TORCH}+{CUDA}.html\n",
        "!pip install torch-geometric"
      ],
      "metadata": {
        "id": "SJDbVhtHfKXl"
      },
      "execution_count": null,
      "outputs": []
    },
    {
      "cell_type": "code",
      "source": [
        "import os\n",
        "from typing import Dict, List, Tuple, Union, \\\n",
        "                   Sequence, TypeVar, Generic, \\\n",
        "                   Optional\n",
        "import networkx as nx\n",
        "import numpy as np\n",
        "import plotly\n",
        "import plotly.express as px\n",
        "import plotly.graph_objects as go\n",
        "\n",
        "from torch.utils.data import Dataset\n",
        "from torchvision import transforms\n",
        "\n",
        "import torch\n",
        "import pytorch_lightning as pl\n",
        "from pytorch_lightning.callbacks import LearningRateMonitor, \\\n",
        "                                        ModelCheckpoint\n",
        "import torch_geometric as gtorch\n",
        "import torch_geometric.nn as gnn\n",
        "import torch_geometric.data as gdata\n",
        "import torch_geometric.loader as gloader\n",
        "import torch_geometric.utils as gutils\n",
        "\n",
        "import random\n",
        "from collections import defaultdict"
      ],
      "metadata": {
        "id": "ir1hptyLJMoN"
      },
      "execution_count": 69,
      "outputs": []
    },
    {
      "cell_type": "markdown",
      "source": [
        "## Load dataset\n",
        "\n",
        "The dataset I will load is the TRIANGLE used in the AS-MAML paper (here's the [link](https://arxiv.org/pdf/2003.08246.pdf))"
      ],
      "metadata": {
        "id": "dyTZTbi_JGlK"
      }
    },
    {
      "cell_type": "code",
      "source": [
        "ROOT_PATH = os.getcwd()\n",
        "GRAPH_ATTRIBUTE  = os.path.join(ROOT_PATH, \"TRIANGLES/TRIANGLES_graph_attributes.txt\")\n",
        "GRAPH_LABELS     = os.path.join(ROOT_PATH, \"TRIANGLES/TRIANGLES_graph_labels.txt\")\n",
        "NODE_NATTRIBUTE  = os.path.join(ROOT_PATH, \"TRIANGLES/TRIANGLES_node_attributes.txt\")\n",
        "GRAPH_INDICATOR  = os.path.join(ROOT_PATH, \"TRIANGLES/TRIANGLES_graph_indicator.txt\")\n",
        "GRAPH_A          = os.path.join(ROOT_PATH, \"TRIANGLES/TRIANGLES_A.txt\")\n",
        "\n",
        "T = TypeVar('T')\n",
        "\n",
        "LOAD_DATASET = False\n",
        "\n",
        "if LOAD_DATASET:\n",
        "    !wget https://cloud-storage.eu-central-1.linodeobjects.com/TRIANGLES.zip\n",
        "    !unzip TRIANGLES.zip"
      ],
      "metadata": {
        "id": "TZW6CTnLJJNF"
      },
      "execution_count": 61,
      "outputs": []
    },
    {
      "cell_type": "code",
      "source": [
        "graph_attribute      = open(GRAPH_ATTRIBUTE).readlines()\n",
        "graph_labels         = open(GRAPH_LABELS).readlines()\n",
        "graph_node_attribute = open(NODE_NATTRIBUTE).readlines()\n",
        "graph_indicator      = open(GRAPH_INDICATOR).readlines()\n",
        "graph_a              = open(GRAPH_A).readlines()"
      ],
      "metadata": {
        "id": "37zpzkLaLKHw"
      },
      "execution_count": 5,
      "outputs": []
    },
    {
      "cell_type": "code",
      "source": [
        "class GeneratorTxt2Graph:\n",
        "    def __init__(self, **kargs) -> None:\n",
        "        self.__graph_attribute  = kargs['graph_attribute']\n",
        "        self.__graph_labels     = kargs['graph_labels']\n",
        "        self.__node_attribute   = kargs['node_attribute']\n",
        "        self.__graph_indicator  = kargs['graph_indicator']\n",
        "        self.__graph_adjacency  = kargs['graph_adjacency']\n",
        "        self.__node_labels      = kargs['node_labels']\n",
        "        self.__edge_labels      = kargs['edge_labels']\n",
        "        self.__edge_attributes  = kargs['edge_attributes']\n",
        "\n",
        "    def _collect_nodes(self) -> Tuple[Dict[str, List[int]], Dict[str, Tuple[str, int]]]:\n",
        "        \"\"\" Look at the graph_indicator.txt file and return\n",
        "        a dictionary containing as keys the ID of the graph\n",
        "        and as values a list of nodes belonging to that graph \"\"\"\n",
        "        print(\"--- Collecting Nodes ... \")\n",
        "\n",
        "        nodes, i_nodes = dict(), dict()\n",
        "        for i, graph_id in enumerate(self.__graph_indicator):\n",
        "            graph_id = graph_id[:-1]\n",
        "            if graph_id not in nodes:\n",
        "                nodes[graph_id] = []\n",
        "        \n",
        "            nodes[graph_id].append(i + 1)\n",
        "            i_nodes[i + 1] = [graph_id, i + 1]\n",
        "        \n",
        "        return nodes, i_nodes\n",
        "\n",
        "    def _collect_edges(self, i_nodes: Dict[str, Tuple[str, int]], \n",
        "                             direct: bool=False) -> Dict[str, List[Tuple[int, int]]]:\n",
        "        \"\"\" Look at the graph_A.txt file and return a dictionary\n",
        "        containing as keys the ID of the graph and as values\n",
        "        a list of edges of that graph \"\"\"\n",
        "        print(\"--- Collecting Edges ...\")\n",
        "\n",
        "        edges = dict()\n",
        "        for line in self.__graph_adjacency:\n",
        "            if line == \"\\n\":\n",
        "                continue\n",
        "            \n",
        "            a, b = line.split(\", \")\n",
        "            a, b = a.strip(), b.strip()\n",
        "\n",
        "            graph_a, node_a = i_nodes[int(a)]\n",
        "            graph_b, node_b = i_nodes[int(b)]\n",
        "\n",
        "            assert graph_a == graph_b, f\"Two graphs are not equal: {graph_a} != {graph_b}\"\n",
        "\n",
        "            if graph_a not in edges:\n",
        "                edges[graph_a] = []\n",
        "            \n",
        "            edges[graph_a].append((node_a, node_b))\n",
        "\n",
        "        return edges\n",
        "    \n",
        "    def _collect_node_attributes(self, i_nodes: Dict[str, Tuple[str, int]]) -> None:\n",
        "        \"\"\" Set attributes for each nodes \"\"\"\n",
        "        print(\"--- Collecting Node Attributes ...\")\n",
        "        for i, attr in enumerate(self.__node_attribute):\n",
        "            node_i = i_nodes[i + 1]\n",
        "            attrs = attr.split(\", \")\n",
        "            attrs[-1] = attrs[-1][:-1]\n",
        "            node_i.append({f\"attr{i}\" : attr for i, attr in enumerate(attrs)})\n",
        "\n",
        "    def _collect_graph_labels(self, graphs: Dict[str, nx.Graph]) -> None:\n",
        "        \"\"\" Set the attribute label for each graph \"\"\"\n",
        "        print(\"--- Collecting Graph Labels ...\")\n",
        "        for i, label in enumerate(self.__graph_labels):\n",
        "            graph_i = graphs[str(i + 1)]\n",
        "            graphs[str(i + 1)] = (graph_i, label[:-1])\n",
        "\n",
        "    # TODO: _collect_node_labels, _collect_edge_labels, _collect_edge_attributes\n",
        "\n",
        "    def generate(self) -> Dict[str, nx.Graph]:\n",
        "        \"\"\" Return a dictionary of {i : Graph_i} \"\"\"\n",
        "        # Get Nodes and Edges\n",
        "        nodes, i_nodes = self._collect_nodes()\n",
        "        edges          = self._collect_edges(i_nodes, False)\n",
        "\n",
        "        # Set attributes for nodes\n",
        "        self._collect_node_attributes(i_nodes)\n",
        "        \n",
        "        # Create the graphs\n",
        "        graphs = dict()\n",
        "        for graph_id in edges:\n",
        "            g = nx.Graph()\n",
        "            g_nodes = [(i_nodes[n][1], i_nodes[n][-1]) for n in nodes[graph_id]]\n",
        "            g_edges = edges[graph_id]\n",
        "\n",
        "            g.add_nodes_from(g_nodes)\n",
        "            g.add_edges_from(g_edges)\n",
        "\n",
        "            graphs[graph_id] = g\n",
        "\n",
        "        # Set labels for graph\n",
        "        self._collect_graph_labels(graphs)\n",
        "\n",
        "        return graphs"
      ],
      "metadata": {
        "id": "Dv3ENeuqVVOZ"
      },
      "execution_count": 6,
      "outputs": []
    },
    {
      "cell_type": "code",
      "source": [
        "graphs_gen = GeneratorTxt2Graph(graph_attribute=graph_attribute,\n",
        "                                graph_labels=graph_labels,\n",
        "                                node_attribute=graph_node_attribute,\n",
        "                                graph_indicator=graph_indicator,\n",
        "                                graph_adjacency=graph_a,\n",
        "                                node_labels=None,\n",
        "                                edge_labels=None,\n",
        "                                edge_attributes=None)"
      ],
      "metadata": {
        "id": "7WK0wN6igsnT"
      },
      "execution_count": 7,
      "outputs": []
    },
    {
      "cell_type": "code",
      "source": [
        "%%time \n",
        "graphs = graphs_gen.generate()"
      ],
      "metadata": {
        "colab": {
          "base_uri": "https://localhost:8080/"
        },
        "id": "ykoac2bwYPYf",
        "outputId": "5b58ae67-39ce-4dbb-c87c-6de81977039f"
      },
      "execution_count": 8,
      "outputs": [
        {
          "output_type": "stream",
          "name": "stdout",
          "text": [
            "--- Collecting Nodes ... \n",
            "--- Collecting Edges ...\n",
            "--- Collecting Node Attributes ...\n",
            "--- Collecting Graph Labels ...\n",
            "CPU times: user 16.2 s, sys: 1.67 s, total: 17.9 s\n",
            "Wall time: 18 s\n"
          ]
        }
      ]
    },
    {
      "cell_type": "code",
      "source": [
        "def plot_graph(G : Union[nx.Graph, nx.DiGraph], name: str) -> None:\n",
        "    \"\"\"\n",
        "    Plot a graph\n",
        "    \n",
        "    Parameters\n",
        "    ----------\n",
        "    graph : Union[nx.Graph, nx.DiGraph]\n",
        "        Just a nx.Graph object\n",
        "    name  : str\n",
        "        The name of the graph\n",
        "        \n",
        "    Returns\n",
        "    -------\n",
        "    None\n",
        "    \"\"\"\n",
        "    # Getting the 3D Spring layout\n",
        "    layout = nx.spring_layout(G, dim=3, seed=18)\n",
        "    \n",
        "    # Getting nodes coordinate\n",
        "    x_nodes = [layout[i][0] for i in layout]  # x-coordinates of nodes\n",
        "    y_nodes = [layout[i][1] for i in layout]  # y-coordinates of nodes\n",
        "    z_nodes = [layout[i][2] for i in layout]  # z-coordinates of nodes\n",
        "    \n",
        "    # Getting a list of edges and create a list with coordinates\n",
        "    elist = G.edges()\n",
        "    x_edges, y_edges, z_edges = [], [], []\n",
        "    for edge in elist:\n",
        "        x_edges += [layout[edge[0]][0], layout[edge[1]][0], None]\n",
        "        y_edges += [layout[edge[0]][1], layout[edge[1]][1], None]\n",
        "        z_edges += [layout[edge[0]][2], layout[edge[1]][2], None]\n",
        "\n",
        "    colors = np.linspace(0, len(x_nodes))\n",
        "        \n",
        "    # Create a trace for the edges\n",
        "    etrace = go.Scatter3d(x=x_edges,\n",
        "                          y=y_edges,\n",
        "                          z=z_edges,\n",
        "                          mode='lines',\n",
        "                          line=dict(color='rgb(125,125,125)', width=1),\n",
        "                          hoverinfo='none'\n",
        "                         )\n",
        "    \n",
        "    # Create a trace for the nodes\n",
        "    ntrace = go.Scatter3d(x=x_nodes,\n",
        "                          y=y_nodes,\n",
        "                          z=z_nodes,\n",
        "                          mode='markers',\n",
        "                          marker=dict(\n",
        "                              symbol='circle',\n",
        "                              size=6,\n",
        "                              color=colors,\n",
        "                              colorscale='Viridis',\n",
        "                              line=dict(color='rgb(50,50,50)', width=.5)),\n",
        "                          text=list(layout.keys()),\n",
        "                          hoverinfo='text'\n",
        "                         )\n",
        "    \n",
        "    # Set the axis\n",
        "    axis = dict(showbackground=False,\n",
        "                showline=False,\n",
        "                zeroline=False,\n",
        "                showgrid=False,\n",
        "                showticklabels=False,\n",
        "                title='')\n",
        "    \n",
        "    # Create a layout for the plot\n",
        "    go_layout = go.Layout(title=f\"{name} Network Graph\",\n",
        "                          width=600,\n",
        "                          height=600,\n",
        "                          showlegend=False,\n",
        "                          scene=dict(xaxis=dict(axis),\n",
        "                                     yaxis=dict(axis),\n",
        "                                     zaxis=dict(axis)),\n",
        "                          margin=dict(t=100),\n",
        "                          hovermode='closest'\n",
        "                         )\n",
        "    \n",
        "    # Plot\n",
        "    data = [etrace, ntrace]\n",
        "    fig = go.Figure(data=data, layout=go_layout)\n",
        "    fig.show()"
      ],
      "metadata": {
        "id": "0-oeNL0tCohJ"
      },
      "execution_count": 9,
      "outputs": []
    },
    {
      "cell_type": "code",
      "source": [
        "plot_graph(graphs[\"1\"][0], \"1\")"
      ],
      "metadata": {
        "colab": {
          "base_uri": "https://localhost:8080/",
          "height": 617
        },
        "id": "B4qSXar2C5kG",
        "outputId": "af9d58f6-b8c6-4e6f-c717-3fec520d4a6b"
      },
      "execution_count": null,
      "outputs": [
        {
          "output_type": "display_data",
          "data": {
            "text/html": [
              "<html>\n",
              "<head><meta charset=\"utf-8\" /></head>\n",
              "<body>\n",
              "    <div>            <script src=\"https://cdnjs.cloudflare.com/ajax/libs/mathjax/2.7.5/MathJax.js?config=TeX-AMS-MML_SVG\"></script><script type=\"text/javascript\">if (window.MathJax) {MathJax.Hub.Config({SVG: {font: \"STIX-Web\"}});}</script>                <script type=\"text/javascript\">window.PlotlyConfig = {MathJaxConfig: 'local'};</script>\n",
              "        <script src=\"https://cdn.plot.ly/plotly-2.8.3.min.js\"></script>                <div id=\"2d164319-6195-4d8d-ae26-8dbc7e222f68\" class=\"plotly-graph-div\" style=\"height:600px; width:600px;\"></div>            <script type=\"text/javascript\">                                    window.PLOTLYENV=window.PLOTLYENV || {};                                    if (document.getElementById(\"2d164319-6195-4d8d-ae26-8dbc7e222f68\")) {                    Plotly.newPlot(                        \"2d164319-6195-4d8d-ae26-8dbc7e222f68\",                        [{\"hoverinfo\":\"none\",\"line\":{\"color\":\"rgb(125,125,125)\",\"width\":1},\"mode\":\"lines\",\"x\":[0.051308883149026346,0.02016575910818628,null,0.051308883149026346,0.08564240022999603,null,0.051308883149026346,0.1930411338709562,null,0.051308883149026346,-0.06827302872628031,null,-0.12547267262457984,0.02016575910818628,null,-0.12547267262457984,-0.281459921274044,null,0.02016575910818628,0.12118761521740949,null,0.08564240022999603,0.12044570801943036,null,0.08140990800553129,0.12044570801943036,null,0.08140990800553129,0.12118761521740949,null,0.08140990800553129,0.19699241882997393,null,0.08140990800553129,-0.06827302872628031,null,0.11514806279823737,0.2093998420450953,null,0.11514806279823737,0.12044570801943036,null,0.11514806279823737,0.19699241882997393,null,0.11514806279823737,-0.06827302872628031,null,-0.281459921274044,-0.27809972630529395,null,-0.281459921274044,-0.3728717992154575,null,-0.46995601540930576,-0.27809972630529395,null,-0.46995601540930576,-0.6136479395192319,null,0.16017564282786834,0.12044570801943036,null,0.2093998420450953,0.31628309097936935,null,0.2093998420450953,0.12118761521740949,null,0.31628309097936935,0.39709010030679426,null,-0.27809972630529395,-0.2167143756043442,null,-0.27809972630529395,-0.06827302872628031,null,-0.2167143756043442,-0.06827302872628031,null,0.19699241882997393,0.1930411338709562,null],\"y\":[0.16329421839396177,0.1035590663862065,null,0.16329421839396177,0.1914651750057414,null,0.16329421839396177,0.2031864708507348,null,0.16329421839396177,0.04465654231583099,null,0.1372103978148319,0.1035590663862065,null,0.1372103978148319,0.12640864381245945,null,0.1035590663862065,-0.02601491047409722,null,0.1914651750057414,0.06565167243282984,null,0.03774466927409536,0.06565167243282984,null,0.03774466927409536,-0.02601491047409722,null,0.03774466927409536,0.07838553438668093,null,0.03774466927409536,0.04465654231583099,null,-0.030577974580348444,-0.161478694007113,null,-0.030577974580348444,0.06565167243282984,null,-0.030577974580348444,0.07838553438668093,null,-0.030577974580348444,0.04465654231583099,null,0.12640864381245945,0.050616159724978696,null,0.12640864381245945,0.17457277552094932,null,0.005560467288952234,0.050616159724978696,null,0.005560467288952234,-0.027198657073935865,null,0.08730199329133351,0.06565167243282984,null,-0.161478694007113,-0.31753427209497487,null,-0.161478694007113,-0.02601491047409722,null,-0.31753427209497487,-0.4336633617864453,null,0.050616159724978696,0.0317022806306362,null,0.050616159724978696,0.04465654231583099,null,0.0317022806306362,0.04465654231583099,null,0.07838553438668093,0.2031864708507348,null],\"z\":[0.03190465965968714,-0.12000965528816555,null,0.03190465965968714,0.18661895709418716,null,0.03190465965968714,0.05332319506728771,null,0.03190465965968714,0.039012542028541014,null,-0.22460945060482918,-0.12000965528816555,null,-0.22460945060482918,-0.2252199230622716,null,-0.12000965528816555,-0.048569992831610176,null,0.18661895709418716,0.2337722510058344,null,0.09037282125889595,0.2337722510058344,null,0.09037282125889595,-0.048569992831610176,null,0.09037282125889595,0.09449564731215306,null,0.09037282125889595,0.039012542028541014,null,0.10000515223246463,-0.0030748232694585995,null,0.10000515223246463,0.2337722510058344,null,0.10000515223246463,0.09449564731215306,null,0.10000515223246463,0.039012542028541014,null,-0.2252199230622716,-0.059104515467852045,null,-0.2252199230622716,-0.3381390410238263,null,-0.05727043401103914,-0.059104515467852045,null,-0.05727043401103914,-0.05711260863666316,null,0.3904940304452934,0.2337722510058344,null,-0.0030748232694585995,-0.0494942482803942,null,-0.0030748232694585995,-0.048569992831610176,null,-0.0494942482803942,-0.08406286666203862,null,-0.059104515467852045,0.03344358099512942,null,-0.059104515467852045,0.039012542028541014,null,0.03344358099512942,0.039012542028541014,null,0.09449564731215306,0.05332319506728771,null],\"type\":\"scatter3d\"},{\"hoverinfo\":\"text\",\"marker\":{\"color\":[0.0,0.46938775510204084,0.9387755102040817,1.4081632653061225,1.8775510204081634,2.3469387755102042,2.816326530612245,3.285714285714286,3.7551020408163267,4.224489795918368,4.6938775510204085,5.163265306122449,5.63265306122449,6.1020408163265305,6.571428571428572,7.040816326530613,7.510204081632653,7.979591836734694,8.448979591836736,8.918367346938776,9.387755102040817,9.857142857142858,10.326530612244898,10.795918367346939,11.26530612244898,11.73469387755102,12.204081632653061,12.673469387755103,13.142857142857144,13.612244897959185,14.081632653061225,14.551020408163266,15.020408163265307,15.489795918367347,15.959183673469388,16.42857142857143,16.89795918367347,17.367346938775512,17.836734693877553,18.306122448979593,18.775510204081634,19.244897959183675,19.714285714285715,20.183673469387756,20.653061224489797,21.122448979591837,21.591836734693878,22.06122448979592,22.53061224489796,23.0],\"colorscale\":[[0.0,\"#440154\"],[0.1111111111111111,\"#482878\"],[0.2222222222222222,\"#3e4989\"],[0.3333333333333333,\"#31688e\"],[0.4444444444444444,\"#26828e\"],[0.5555555555555556,\"#1f9e89\"],[0.6666666666666666,\"#35b779\"],[0.7777777777777778,\"#6ece58\"],[0.8888888888888888,\"#b5de2b\"],[1.0,\"#fde725\"]],\"line\":{\"color\":\"rgb(50,50,50)\",\"width\":0.5},\"size\":6,\"symbol\":\"circle\"},\"mode\":\"markers\",\"text\":[\"1\",\"2\",\"3\",\"4\",\"5\",\"6\",\"7\",\"8\",\"9\",\"10\",\"11\",\"12\",\"13\",\"14\",\"15\",\"16\",\"17\",\"18\",\"19\",\"20\",\"21\",\"22\",\"23\"],\"x\":[0.051308883149026346,-0.12547267262457984,0.02016575910818628,0.08564240022999603,0.08140990800553129,0.11514806279823737,-0.281459921274044,-0.46995601540930576,0.16017564282786834,0.2093998420450953,0.31628309097936935,0.7302829627834423,0.12044570801943036,-0.27809972630529395,0.12118761521740949,-0.2167143756043442,-0.6136479395192319,0.19699241882997393,0.1930411338709562,-0.3728717992154575,-0.06827302872628031,0.39709010030679426,-0.37207804949277984],\"y\":[0.16329421839396177,0.1372103978148319,0.1035590663862065,0.1914651750057414,0.03774466927409536,-0.030577974580348444,0.12640864381245945,0.005560467288952234,0.08730199329133351,-0.161478694007113,-0.31753427209497487,0.156225493319548,0.06565167243282984,0.050616159724978696,-0.02601491047409722,0.0317022806306362,-0.027198657073935865,0.07838553438668093,0.2031864708507348,0.17457277552094932,0.04465654231583099,-0.4336633617864453,-0.6610736904328566],\"z\":[0.03190465965968714,-0.22460945060482918,-0.12000965528816555,0.18661895709418716,0.09037282125889595,0.10000515223246463,-0.2252199230622716,-0.05727043401103914,0.3904940304452934,-0.0030748232694585995,-0.0494942482803942,-0.9867752779613245,0.2337722510058344,-0.059104515467852045,-0.048569992831610176,0.03344358099512942,-0.05711260863666316,0.09449564731215306,0.05332319506728771,-0.3381390410238263,0.039012542028541014,-0.08406286666203862,1.0],\"type\":\"scatter3d\"}],                        {\"height\":600,\"hovermode\":\"closest\",\"margin\":{\"t\":100},\"scene\":{\"xaxis\":{\"showbackground\":false,\"showgrid\":false,\"showline\":false,\"showticklabels\":false,\"title\":{\"text\":\"\"},\"zeroline\":false},\"yaxis\":{\"showbackground\":false,\"showgrid\":false,\"showline\":false,\"showticklabels\":false,\"title\":{\"text\":\"\"},\"zeroline\":false},\"zaxis\":{\"showbackground\":false,\"showgrid\":false,\"showline\":false,\"showticklabels\":false,\"title\":{\"text\":\"\"},\"zeroline\":false}},\"showlegend\":false,\"title\":{\"text\":\"1 Network Graph\"},\"width\":600,\"template\":{\"data\":{\"bar\":[{\"error_x\":{\"color\":\"#2a3f5f\"},\"error_y\":{\"color\":\"#2a3f5f\"},\"marker\":{\"line\":{\"color\":\"#E5ECF6\",\"width\":0.5},\"pattern\":{\"fillmode\":\"overlay\",\"size\":10,\"solidity\":0.2}},\"type\":\"bar\"}],\"barpolar\":[{\"marker\":{\"line\":{\"color\":\"#E5ECF6\",\"width\":0.5},\"pattern\":{\"fillmode\":\"overlay\",\"size\":10,\"solidity\":0.2}},\"type\":\"barpolar\"}],\"carpet\":[{\"aaxis\":{\"endlinecolor\":\"#2a3f5f\",\"gridcolor\":\"white\",\"linecolor\":\"white\",\"minorgridcolor\":\"white\",\"startlinecolor\":\"#2a3f5f\"},\"baxis\":{\"endlinecolor\":\"#2a3f5f\",\"gridcolor\":\"white\",\"linecolor\":\"white\",\"minorgridcolor\":\"white\",\"startlinecolor\":\"#2a3f5f\"},\"type\":\"carpet\"}],\"choropleth\":[{\"colorbar\":{\"outlinewidth\":0,\"ticks\":\"\"},\"type\":\"choropleth\"}],\"contour\":[{\"colorbar\":{\"outlinewidth\":0,\"ticks\":\"\"},\"colorscale\":[[0.0,\"#0d0887\"],[0.1111111111111111,\"#46039f\"],[0.2222222222222222,\"#7201a8\"],[0.3333333333333333,\"#9c179e\"],[0.4444444444444444,\"#bd3786\"],[0.5555555555555556,\"#d8576b\"],[0.6666666666666666,\"#ed7953\"],[0.7777777777777778,\"#fb9f3a\"],[0.8888888888888888,\"#fdca26\"],[1.0,\"#f0f921\"]],\"type\":\"contour\"}],\"contourcarpet\":[{\"colorbar\":{\"outlinewidth\":0,\"ticks\":\"\"},\"type\":\"contourcarpet\"}],\"heatmap\":[{\"colorbar\":{\"outlinewidth\":0,\"ticks\":\"\"},\"colorscale\":[[0.0,\"#0d0887\"],[0.1111111111111111,\"#46039f\"],[0.2222222222222222,\"#7201a8\"],[0.3333333333333333,\"#9c179e\"],[0.4444444444444444,\"#bd3786\"],[0.5555555555555556,\"#d8576b\"],[0.6666666666666666,\"#ed7953\"],[0.7777777777777778,\"#fb9f3a\"],[0.8888888888888888,\"#fdca26\"],[1.0,\"#f0f921\"]],\"type\":\"heatmap\"}],\"heatmapgl\":[{\"colorbar\":{\"outlinewidth\":0,\"ticks\":\"\"},\"colorscale\":[[0.0,\"#0d0887\"],[0.1111111111111111,\"#46039f\"],[0.2222222222222222,\"#7201a8\"],[0.3333333333333333,\"#9c179e\"],[0.4444444444444444,\"#bd3786\"],[0.5555555555555556,\"#d8576b\"],[0.6666666666666666,\"#ed7953\"],[0.7777777777777778,\"#fb9f3a\"],[0.8888888888888888,\"#fdca26\"],[1.0,\"#f0f921\"]],\"type\":\"heatmapgl\"}],\"histogram\":[{\"marker\":{\"pattern\":{\"fillmode\":\"overlay\",\"size\":10,\"solidity\":0.2}},\"type\":\"histogram\"}],\"histogram2d\":[{\"colorbar\":{\"outlinewidth\":0,\"ticks\":\"\"},\"colorscale\":[[0.0,\"#0d0887\"],[0.1111111111111111,\"#46039f\"],[0.2222222222222222,\"#7201a8\"],[0.3333333333333333,\"#9c179e\"],[0.4444444444444444,\"#bd3786\"],[0.5555555555555556,\"#d8576b\"],[0.6666666666666666,\"#ed7953\"],[0.7777777777777778,\"#fb9f3a\"],[0.8888888888888888,\"#fdca26\"],[1.0,\"#f0f921\"]],\"type\":\"histogram2d\"}],\"histogram2dcontour\":[{\"colorbar\":{\"outlinewidth\":0,\"ticks\":\"\"},\"colorscale\":[[0.0,\"#0d0887\"],[0.1111111111111111,\"#46039f\"],[0.2222222222222222,\"#7201a8\"],[0.3333333333333333,\"#9c179e\"],[0.4444444444444444,\"#bd3786\"],[0.5555555555555556,\"#d8576b\"],[0.6666666666666666,\"#ed7953\"],[0.7777777777777778,\"#fb9f3a\"],[0.8888888888888888,\"#fdca26\"],[1.0,\"#f0f921\"]],\"type\":\"histogram2dcontour\"}],\"mesh3d\":[{\"colorbar\":{\"outlinewidth\":0,\"ticks\":\"\"},\"type\":\"mesh3d\"}],\"parcoords\":[{\"line\":{\"colorbar\":{\"outlinewidth\":0,\"ticks\":\"\"}},\"type\":\"parcoords\"}],\"pie\":[{\"automargin\":true,\"type\":\"pie\"}],\"scatter\":[{\"marker\":{\"colorbar\":{\"outlinewidth\":0,\"ticks\":\"\"}},\"type\":\"scatter\"}],\"scatter3d\":[{\"line\":{\"colorbar\":{\"outlinewidth\":0,\"ticks\":\"\"}},\"marker\":{\"colorbar\":{\"outlinewidth\":0,\"ticks\":\"\"}},\"type\":\"scatter3d\"}],\"scattercarpet\":[{\"marker\":{\"colorbar\":{\"outlinewidth\":0,\"ticks\":\"\"}},\"type\":\"scattercarpet\"}],\"scattergeo\":[{\"marker\":{\"colorbar\":{\"outlinewidth\":0,\"ticks\":\"\"}},\"type\":\"scattergeo\"}],\"scattergl\":[{\"marker\":{\"colorbar\":{\"outlinewidth\":0,\"ticks\":\"\"}},\"type\":\"scattergl\"}],\"scattermapbox\":[{\"marker\":{\"colorbar\":{\"outlinewidth\":0,\"ticks\":\"\"}},\"type\":\"scattermapbox\"}],\"scatterpolar\":[{\"marker\":{\"colorbar\":{\"outlinewidth\":0,\"ticks\":\"\"}},\"type\":\"scatterpolar\"}],\"scatterpolargl\":[{\"marker\":{\"colorbar\":{\"outlinewidth\":0,\"ticks\":\"\"}},\"type\":\"scatterpolargl\"}],\"scatterternary\":[{\"marker\":{\"colorbar\":{\"outlinewidth\":0,\"ticks\":\"\"}},\"type\":\"scatterternary\"}],\"surface\":[{\"colorbar\":{\"outlinewidth\":0,\"ticks\":\"\"},\"colorscale\":[[0.0,\"#0d0887\"],[0.1111111111111111,\"#46039f\"],[0.2222222222222222,\"#7201a8\"],[0.3333333333333333,\"#9c179e\"],[0.4444444444444444,\"#bd3786\"],[0.5555555555555556,\"#d8576b\"],[0.6666666666666666,\"#ed7953\"],[0.7777777777777778,\"#fb9f3a\"],[0.8888888888888888,\"#fdca26\"],[1.0,\"#f0f921\"]],\"type\":\"surface\"}],\"table\":[{\"cells\":{\"fill\":{\"color\":\"#EBF0F8\"},\"line\":{\"color\":\"white\"}},\"header\":{\"fill\":{\"color\":\"#C8D4E3\"},\"line\":{\"color\":\"white\"}},\"type\":\"table\"}]},\"layout\":{\"annotationdefaults\":{\"arrowcolor\":\"#2a3f5f\",\"arrowhead\":0,\"arrowwidth\":1},\"autotypenumbers\":\"strict\",\"coloraxis\":{\"colorbar\":{\"outlinewidth\":0,\"ticks\":\"\"}},\"colorscale\":{\"diverging\":[[0,\"#8e0152\"],[0.1,\"#c51b7d\"],[0.2,\"#de77ae\"],[0.3,\"#f1b6da\"],[0.4,\"#fde0ef\"],[0.5,\"#f7f7f7\"],[0.6,\"#e6f5d0\"],[0.7,\"#b8e186\"],[0.8,\"#7fbc41\"],[0.9,\"#4d9221\"],[1,\"#276419\"]],\"sequential\":[[0.0,\"#0d0887\"],[0.1111111111111111,\"#46039f\"],[0.2222222222222222,\"#7201a8\"],[0.3333333333333333,\"#9c179e\"],[0.4444444444444444,\"#bd3786\"],[0.5555555555555556,\"#d8576b\"],[0.6666666666666666,\"#ed7953\"],[0.7777777777777778,\"#fb9f3a\"],[0.8888888888888888,\"#fdca26\"],[1.0,\"#f0f921\"]],\"sequentialminus\":[[0.0,\"#0d0887\"],[0.1111111111111111,\"#46039f\"],[0.2222222222222222,\"#7201a8\"],[0.3333333333333333,\"#9c179e\"],[0.4444444444444444,\"#bd3786\"],[0.5555555555555556,\"#d8576b\"],[0.6666666666666666,\"#ed7953\"],[0.7777777777777778,\"#fb9f3a\"],[0.8888888888888888,\"#fdca26\"],[1.0,\"#f0f921\"]]},\"colorway\":[\"#636efa\",\"#EF553B\",\"#00cc96\",\"#ab63fa\",\"#FFA15A\",\"#19d3f3\",\"#FF6692\",\"#B6E880\",\"#FF97FF\",\"#FECB52\"],\"font\":{\"color\":\"#2a3f5f\"},\"geo\":{\"bgcolor\":\"white\",\"lakecolor\":\"white\",\"landcolor\":\"#E5ECF6\",\"showlakes\":true,\"showland\":true,\"subunitcolor\":\"white\"},\"hoverlabel\":{\"align\":\"left\"},\"hovermode\":\"closest\",\"mapbox\":{\"style\":\"light\"},\"paper_bgcolor\":\"white\",\"plot_bgcolor\":\"#E5ECF6\",\"polar\":{\"angularaxis\":{\"gridcolor\":\"white\",\"linecolor\":\"white\",\"ticks\":\"\"},\"bgcolor\":\"#E5ECF6\",\"radialaxis\":{\"gridcolor\":\"white\",\"linecolor\":\"white\",\"ticks\":\"\"}},\"scene\":{\"xaxis\":{\"backgroundcolor\":\"#E5ECF6\",\"gridcolor\":\"white\",\"gridwidth\":2,\"linecolor\":\"white\",\"showbackground\":true,\"ticks\":\"\",\"zerolinecolor\":\"white\"},\"yaxis\":{\"backgroundcolor\":\"#E5ECF6\",\"gridcolor\":\"white\",\"gridwidth\":2,\"linecolor\":\"white\",\"showbackground\":true,\"ticks\":\"\",\"zerolinecolor\":\"white\"},\"zaxis\":{\"backgroundcolor\":\"#E5ECF6\",\"gridcolor\":\"white\",\"gridwidth\":2,\"linecolor\":\"white\",\"showbackground\":true,\"ticks\":\"\",\"zerolinecolor\":\"white\"}},\"shapedefaults\":{\"line\":{\"color\":\"#2a3f5f\"}},\"ternary\":{\"aaxis\":{\"gridcolor\":\"white\",\"linecolor\":\"white\",\"ticks\":\"\"},\"baxis\":{\"gridcolor\":\"white\",\"linecolor\":\"white\",\"ticks\":\"\"},\"bgcolor\":\"#E5ECF6\",\"caxis\":{\"gridcolor\":\"white\",\"linecolor\":\"white\",\"ticks\":\"\"}},\"title\":{\"x\":0.05},\"xaxis\":{\"automargin\":true,\"gridcolor\":\"white\",\"linecolor\":\"white\",\"ticks\":\"\",\"title\":{\"standoff\":15},\"zerolinecolor\":\"white\",\"zerolinewidth\":2},\"yaxis\":{\"automargin\":true,\"gridcolor\":\"white\",\"linecolor\":\"white\",\"ticks\":\"\",\"title\":{\"standoff\":15},\"zerolinecolor\":\"white\",\"zerolinewidth\":2}}}},                        {\"responsive\": true}                    ).then(function(){\n",
              "                            \n",
              "var gd = document.getElementById('2d164319-6195-4d8d-ae26-8dbc7e222f68');\n",
              "var x = new MutationObserver(function (mutations, observer) {{\n",
              "        var display = window.getComputedStyle(gd).display;\n",
              "        if (!display || display === 'none') {{\n",
              "            console.log([gd, 'removed!']);\n",
              "            Plotly.purge(gd);\n",
              "            observer.disconnect();\n",
              "        }}\n",
              "}});\n",
              "\n",
              "// Listen for the removal of the full notebook cells\n",
              "var notebookContainer = gd.closest('#notebook-container');\n",
              "if (notebookContainer) {{\n",
              "    x.observe(notebookContainer, {childList: true});\n",
              "}}\n",
              "\n",
              "// Listen for the clearing of the current output cell\n",
              "var outputEl = gd.closest('.output');\n",
              "if (outputEl) {{\n",
              "    x.observe(outputEl, {childList: true});\n",
              "}}\n",
              "\n",
              "                        })                };                            </script>        </div>\n",
              "</body>\n",
              "</html>"
            ]
          },
          "metadata": {}
        }
      ]
    },
    {
      "cell_type": "code",
      "source": [
        "class GraphDataset(gdata.Dataset):\n",
        "    def __init__(self, graphs_ds: Dict[str, Tuple[nx.Graph, str]]) -> None:\n",
        "        super(GraphDataset, self).__init__()\n",
        "        self.graphs_ds = graphs_ds\n",
        "\n",
        "    def len(self) -> int:\n",
        "        return len(self.graphs_ds.keys())\n",
        "\n",
        "    def targets(self) -> torch.Tensor:\n",
        "        \"\"\" Return all the labels \"\"\"\n",
        "        targets = []\n",
        "        for _, graph in self.graphs_ds.items():\n",
        "            targets.append(int(graph[1]))\n",
        "\n",
        "        return torch.tensor(targets)\n",
        "    \n",
        "    def get(self, idx: int) -> gdata.Data:\n",
        "        \"\"\" Return (Graph object, Adjacency matrix and label) of a graph \"\"\"\n",
        "        graph    = self.graphs_ds[str(idx + 1)]\n",
        "        g, label = graph[0].to_directed(), graph[1]\n",
        "        \n",
        "        # Retrieve nodes attributes\n",
        "        attrs = list(g.nodes(data=True))\n",
        "        x     = torch.tensor([list(map(int, a.values())) for _, a in attrs], dtype=torch.float)\n",
        "\n",
        "        # Retrieve edges\n",
        "        edge_index = torch.tensor([list(e) for e in g.edges], dtype=torch.long) \\\n",
        "                          .t()                                                  \\\n",
        "                          .contiguous()\n",
        "\n",
        "        # Retrieve ground trouth labels\n",
        "        y = torch.tensor([int(label)], dtype=torch.int)\n",
        "\n",
        "        return gdata.Data(x=x, edge_index=edge_index, y=y)"
      ],
      "metadata": {
        "id": "p01mD1pSHtTX"
      },
      "execution_count": 10,
      "outputs": []
    },
    {
      "cell_type": "code",
      "source": [
        "graph_dataset = GraphDataset(graphs)"
      ],
      "metadata": {
        "id": "4lv-bcTZ_4_N"
      },
      "execution_count": 11,
      "outputs": []
    },
    {
      "cell_type": "code",
      "source": [
        "class NWayKShotSampler(torch.utils.data.Sampler):\n",
        "    \"\"\"\n",
        "    In few-shot classification, and in particular in Meta-Learning, \n",
        "    we use a specific way of sampling batches from the training/val/test \n",
        "    set. This way is called N-way-K-shot, where N is the number of classes \n",
        "    to sample per batch and K is the number of examples to sample per class \n",
        "    in the batch. The sample batch on which we train our model is also called \n",
        "    `support` set, while the one on which we test is called `query` set.\n",
        "\n",
        "    This class is a N-way-K-shot sampler that will be used as a bath_sampler\n",
        "    for the :obj:`torch_geometric.loader.DataLoader` dataloader. This sampler\n",
        "    return batches of indices that correspond to support and query set batches.\n",
        "\n",
        "    Attributes:\n",
        "        labels: PyTorch tensor of the labels of the data elements\n",
        "        n_way: Number of classes to sampler per batch\n",
        "        k_shot: Number of examples to sampler per class in the batch\n",
        "        include_query: If True, returns batch of size N * K * 2, which\n",
        "                       can be split into support and query set. Simplifies\n",
        "                       the implementation of sampling the same classes but\n",
        "                       distinct examples for support and query set.\n",
        "        shuffle: If True, examples and classes are shuffled at each iteration\n",
        "        shuffle_once: If True, examples and classes are shuffled only once\n",
        "                      and remains constant across each iterations.\n",
        "        batch_size: The size of the batch N * K. If include_query is True\n",
        "                    then it will be N * K * 2.\n",
        "        indices_per_class: How many indices per classes\n",
        "        batches_per_class: Number of K-shot batches for each classes\n",
        "        iterations: Number of iterations\n",
        "        class_list: Contains all the classes the number of times\n",
        "                    defined in batches_per_classes\n",
        "    \"\"\"\n",
        "    def __init__(self, labels       : torch.Tensor, \n",
        "                       n_way        : int, \n",
        "                       k_shot       : int, \n",
        "                       include_query: bool=False, \n",
        "                       shuffle      : bool=True, \n",
        "                       shuffle_once : bool=False) -> None:\n",
        "        super().__init__(None)\n",
        "        self.labels        = labels\n",
        "        self.n_way         = n_way\n",
        "        self.k_shot        = k_shot\n",
        "        self.shuffle       = shuffle\n",
        "        self.shuffle_once  = shuffle_once\n",
        "        self.include_query = include_query\n",
        "\n",
        "        if include_query: \n",
        "            self.k_shot *= 2\n",
        "\n",
        "        self.batch_size = self.n_way * self.k_shot\n",
        "\n",
        "        self.indices_per_class = dict()\n",
        "        self.batches_per_class = dict()\n",
        "\n",
        "        self.classes = torch.unique(self.labels).tolist()\n",
        "        for cl in self.classes:\n",
        "            self.indices_per_class[cl] = torch.where(self.labels == cl)[0]\n",
        "            self.batches_per_class[cl] = self.indices_per_class[cl].shape[0] // self.k_shot\n",
        "        \n",
        "        self.iterations = sum(self.batches_per_class.values()) // self.n_way\n",
        "        self.class_list = [cl for cl in self.classes for _ in range(self.batches_per_class[cl])]\n",
        "\n",
        "        if self.shuffle_once or self.shuffle:\n",
        "            self.shuffle_data()\n",
        "    \n",
        "    def shuffle_data(self) -> None:\n",
        "        \"\"\"\n",
        "        Shuffle the examples per class\n",
        "        \n",
        "        Args:\n",
        "            classes: The list of all classes\n",
        "        \"\"\"\n",
        "        for cl in self.classes:\n",
        "            perm = torch.randperm(self.indices_per_class[cl].shape[0])\n",
        "            self.indices_per_class[cl] = self.indices_per_class[cl][perm]\n",
        "        \n",
        "        # Finally shuffle the class list from which we sample\n",
        "        random.shuffle(self.class_list)\n",
        "\n",
        "    def __iter__(self) -> List[torch.Tensor]:\n",
        "        # Shuffle data\n",
        "        if self.shuffle:\n",
        "            self.shuffle_data()\n",
        "\n",
        "        # Sample\n",
        "        indexes = defaultdict(int)\n",
        "        for it in range(self.iterations):\n",
        "            # Select N classes for the batch\n",
        "            class_batch = self.class_list[it * self.n_way:(it + 1) * self.n_way]\n",
        "            index_batch = []\n",
        "\n",
        "            for cl in class_batch:\n",
        "                idx = indexes[cl]\n",
        "                index_batch += [self.indices_per_class[cl][idx:idx + self.k_shot]]\n",
        "                indexes[cl] += self.k_shot\n",
        "            \n",
        "            if self.include_query:\n",
        "                # Include in the index_batch also the query_set\n",
        "                index_batch = index_batch[::2] + index_batch[1::2]\n",
        "            \n",
        "            yield index_batch\n",
        "\n",
        "    def __len__(self) -> int:\n",
        "        return self.iterations"
      ],
      "metadata": {
        "id": "k3xa2BT_yhyi"
      },
      "execution_count": 42,
      "outputs": []
    },
    {
      "cell_type": "code",
      "source": [
        "# Needs to create a new dataset with a new collater\n",
        "class GraphCollater(gloader.dataloader.Collater):\n",
        "    def __init__(self, *args) -> None:\n",
        "        super(GraphCollater, self).__init__(*args)\n",
        "    \n",
        "    def __call__(self, batch: Generic[T]) -> Generic[T]:\n",
        "        elem = batch[0]\n",
        "        if isinstance(elem, GraphDataset):\n",
        "            return self([[el[j] for j in range(len(el))] for el in batch])\n",
        "        \n",
        "        return super(GraphCollater, self).__call__(batch)\n",
        "\n",
        "\n",
        "class NKDataLoader(torch.utils.data.DataLoader):\n",
        "    def __init__(self, dataset     : GraphDataset, \n",
        "                       batch_size  : int=1,\n",
        "                       shuffle     : bool=False,\n",
        "                       follow_batch: Optional[List[str]]=None,\n",
        "                       exclude_keys: Optional[List[str]]=None,\n",
        "                       **kwargs) -> None:\n",
        "\n",
        "        if 'collate_fn' in kwargs:\n",
        "            del kwargs['collate_fn']\n",
        "\n",
        "        self.follow_batch = follow_batch\n",
        "        self.exclude_keys = exclude_keys\n",
        "\n",
        "        super(NKDataLoader, self).__init__(\n",
        "            dataset,\n",
        "            batch_size,\n",
        "            shuffle,\n",
        "            collate_fn=GraphCollater(follow_batch, \n",
        "                                     exclude_keys),\n",
        "            **kwargs,\n",
        "        )"
      ],
      "metadata": {
        "id": "SRBSrFo7f_Lq"
      },
      "execution_count": 87,
      "outputs": []
    },
    {
      "cell_type": "code",
      "source": [
        "N_WAY  = 5\n",
        "K_SHOT = 4\n",
        "\n",
        "graph_train_loader = NKDataLoader(\n",
        "    graph_dataset,\n",
        "    batch_sampler=NWayKShotSampler(graph_dataset.targets(),\n",
        "                                   include_query=True,\n",
        "                                   n_way=N_WAY,\n",
        "                                   k_shot=K_SHOT,\n",
        "                                   shuffle=True)\n",
        ")"
      ],
      "metadata": {
        "id": "4Q6lQr_5IxuC"
      },
      "execution_count": 88,
      "outputs": []
    },
    {
      "cell_type": "markdown",
      "source": [
        "## Adaptive-Step MAML"
      ],
      "metadata": {
        "id": "mBk74Q0vBFMH"
      }
    },
    {
      "cell_type": "code",
      "execution_count": null,
      "metadata": {
        "id": "YhyPOaEh1oQC"
      },
      "outputs": [],
      "source": [
        ""
      ]
    }
  ]
}